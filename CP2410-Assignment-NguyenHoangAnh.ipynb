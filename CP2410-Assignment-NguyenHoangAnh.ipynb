{
 "cells": [
  {
   "cell_type": "markdown",
   "metadata": {
    "collapsed": true,
    "pycharm": {
     "name": "#%% md\n"
    }
   },
   "source": [
    "## Question 1"
   ]
  },
  {
   "cell_type": "markdown",
   "source": [
    "https://projecteuler.net/problem=5 . [Pass-level] 2520 is the smallest number that can be divided by each of the numbers from 1 to 10 without any remainder. What is the smallest positive number that is evenly divisible by all of the numbers from 1 to n?"
   ],
   "metadata": {
    "collapsed": false,
    "pycharm": {
     "name": "#%% md\n"
    }
   }
  },
  {
   "cell_type": "code",
   "execution_count": 4,
   "outputs": [
    {
     "data": {
      "text/plain": "69720375229712477164533808935312303556800"
     },
     "execution_count": 4,
     "metadata": {},
     "output_type": "execute_result"
    }
   ],
   "source": [
    "from math import gcd\n",
    "def lcm(a,b):\n",
    "    \"Calculate the lowest common multiple of two integers a and b\"\n",
    "    return a*b//gcd(a,b)\n",
    "\n",
    "from functools import reduce\n",
    "reduce(lcm, range(1,100+1))"
   ],
   "metadata": {
    "collapsed": false,
    "pycharm": {
     "name": "#%%\n"
    }
   }
  },
  {
   "cell_type": "code",
   "execution_count": 17,
   "outputs": [
    {
     "data": {
      "text/plain": "69720375229712477164533808935312303556800"
     },
     "execution_count": 17,
     "metadata": {},
     "output_type": "execute_result"
    }
   ],
   "source": [
    "def find_gcd(x,y):\n",
    "    while y:\n",
    "        x,y =y,x%y\n",
    "    return x\n",
    "\n",
    "find_gcd(3,6)\n",
    "def find_smallest_dividend_1(n):\n",
    "    if n<=0:\n",
    "        return False\n",
    "    elif n==1:\n",
    "        return 1\n",
    "    else:\n",
    "        step=find_smallest_dividend_1(n-1)\n",
    "        return n*step//find_gcd(n,step)\n",
    "\n",
    "find_smallest_dividend_1(100)"
   ],
   "metadata": {
    "collapsed": false,
    "pycharm": {
     "name": "#%%\n"
    }
   }
  },
  {
   "cell_type": "markdown",
   "source": [
    "time complexity: n log n\n",
    "the best case: O(1)\n",
    "\n",
    "the worst case:\n",
    "we can see that the function makes n-1 times.However in each call, it also call a find_gcd function.\n",
    "we gonna find the time complexity for find_gcd()\n",
    "Consider find_gcd(a,b) with b<=a.\n",
    "if b < a/2, then the next step: a,b = b,a%b will make the new value a always less than a/2,since the % operation will remove b or more from a.\n",
    "if b > a/2, then the next step: a,b = b,a%b will make the new value b always less than a/2 since the\n",
    "if b==2, it is the best case so we dont consider\n",
    "\n",
    "so for each recursive step, the find_gcd() will cut a or b in half.\n",
    "\n",
    "Therefore, the big O notation of find_gcd(a,b) is O(log(a)) with a >=b\n",
    "\n",
    "\n",
    "We see that usually find_smallest_dividend_1(n-1)> n (excepts n<=3).\n",
    "big O notation of find_gcd(n,find_smallest_dividend_1(n-1)) is O(log(find_smallest_dividend_1(n-1))).\n",
    "However, find_smallest_dividend_1(n-1) = c*(n-1)=c*n-c =< c*n with c is a constant.\n",
    "therefore, big O notation of find_gcd(n,find_smallest_dividend_1(n-1)) is log(n).\n",
    "\n",
    "we have (n-1) calls for find_smallest_dividend_1() function, and in each call we call a find_gcd() function.\n",
    "Therefore, the big O notation of find_smallest_dividend_1() is n*log(n) with log is logarith base 2"
   ],
   "metadata": {
    "collapsed": false,
    "pycharm": {
     "name": "#%% md\n"
    }
   }
  },
  {
   "cell_type": "markdown",
   "source": [
    "determine the memory usage of this algorithm, because it is a recursion"
   ],
   "metadata": {
    "collapsed": false,
    "pycharm": {
     "name": "#%% md\n"
    }
   }
  },
  {
   "cell_type": "code",
   "execution_count": 1,
   "outputs": [
    {
     "name": "stdout",
     "output_type": "stream",
     "text": [
      "2520\n"
     ]
    }
   ],
   "source": [
    "def find_smallest_dividend_2(n):\n",
    "    if n <= 1:\n",
    "        return 1\n",
    "    else:\n",
    "        step = find_smallest_dividend_2(n - 1)\n",
    "        if(step%n==0):\n",
    "            return step\n",
    "        else:\n",
    "            number = 1\n",
    "            found = False\n",
    "            while not found:\n",
    "                number += 1\n",
    "                found = ((step*number)%n ==0)\n",
    "            return number*step\n",
    "print(find_smallest_dividend_2(10))"
   ],
   "metadata": {
    "collapsed": false,
    "pycharm": {
     "name": "#%%\n"
    }
   }
  },
  {
   "cell_type": "markdown",
   "source": [
    "We see that find_smallest_dividend_2(n) will make (n-1) recursive calls.\n",
    "in each call, we also conduct a while loop\n",
    "this while loop in worst case will loop n times if the highest common factor between step value and n is 1.\n",
    "Therefore, the big O notation of this algorithm is n^2^."
   ],
   "metadata": {
    "collapsed": false,
    "pycharm": {
     "name": "#%% md\n"
    }
   }
  },
  {
   "cell_type": "markdown",
   "source": [
    "Now I plot the time execution plot. We consider n from 1 to 100"
   ],
   "metadata": {
    "collapsed": false
   }
  },
  {
   "cell_type": "code",
   "execution_count": 41,
   "outputs": [
    {
     "data": {
      "text/plain": "[0.0, 0.3333333333333333, 0.6666666666666666, 1.0]"
     },
     "execution_count": 41,
     "metadata": {},
     "output_type": "execute_result"
    }
   ],
   "source": [
    "def min_max_scaler(arr):\n",
    "    return [(x-min(arr))/(max(arr)-min(arr)) for x in arr]\n",
    "min_max_scaler([1,2,3,4])"
   ],
   "metadata": {
    "collapsed": false,
    "pycharm": {
     "name": "#%%\n"
    }
   }
  },
  {
   "cell_type": "code",
   "execution_count": 18,
   "outputs": [
    {
     "data": {
      "text/plain": "<Figure size 432x288 with 1 Axes>",
      "image/png": "[encoded data removed]"
     },
     "metadata": {
      "needs_background": "light"
     },
     "output_type": "display_data"
    }
   ],
   "source": [
    "import time\n",
    "exec_times= [] #store executing times in seconds\n",
    "#I add a bit of delay so that we can see how well the model works\n",
    "#the delay is proportional to the value n\n",
    "# delay=0.001\n",
    "for n in range(1,101):\n",
    "    start = time.time()\n",
    "    find_smallest_dividend_1(n)\n",
    "    # time.sleep(delay*n)\n",
    "    end= time.time()\n",
    "    exec_times.append(end-start)\n",
    "import matplotlib.pyplot as plt\n",
    "import math\n",
    "# I will plot the exec_times in Microseconds\n",
    "plt.plot(list(range(1,101)), [1000000*x for x in exec_times])\n",
    "plt.plot(list(range(1,101)),[n*math.log(n,2) for n in range(1,101)])\n",
    "plt.title(\"the time executions for find_smallest_dividend_1\")\n",
    "plt.xlabel(\"n-value\")\n",
    "plt.ylabel(\"time executions\")\n",
    "plt.show()"
   ],
   "metadata": {
    "collapsed": false,
    "pycharm": {
     "name": "#%%\n"
    }
   }
  },
  {
   "cell_type": "code",
   "execution_count": 7,
   "outputs": [
    {
     "data": {
      "text/plain": "1.000450849533081"
     },
     "execution_count": 7,
     "metadata": {},
     "output_type": "execute_result"
    }
   ],
   "source": [
    "begin = time.time()\n",
    "time.sleep(1)\n",
    "time.time()-begin"
   ],
   "metadata": {
    "collapsed": false,
    "pycharm": {
     "name": "#%%\n"
    }
   }
  },
  {
   "cell_type": "code",
   "execution_count": 19,
   "outputs": [
    {
     "data": {
      "text/plain": "<Figure size 432x288 with 1 Axes>",
      "image/png": "[encoded data removed]"
     },
     "metadata": {
      "needs_background": "light"
     },
     "output_type": "display_data"
    }
   ],
   "source": [
    "import time\n",
    "exec_times= []\n",
    "#I add a bit of delay so that we can see how well the model works\n",
    "#the delay is proportional to the value n\n",
    "for n in range(1,101):\n",
    "    start = time.time()\n",
    "    find_smallest_dividend_2(n)\n",
    "    end= time.time()\n",
    "    exec_times.append(end-start)\n",
    "import matplotlib.pyplot as plt\n",
    "import math\n",
    "plt.plot(list(range(1,101)), [1000000*x for x in exec_times])\n",
    "plt.plot(list(range(1,101)),[n*n for n in range(1,101)])\n",
    "plt.title(\"the time executions for find_smallest_dividend_2\")\n",
    "plt.xlabel(\"n-value\")\n",
    "plt.ylabel(\"time executions\")\n",
    "plt.show()"
   ],
   "metadata": {
    "collapsed": false,
    "pycharm": {
     "name": "#%%\n"
    }
   }
  },
  {
   "cell_type": "markdown",
   "source": [
    "From two graph we can see that find_smallest_dividend_1 is better because when n move from 1 to 100, there are less peak points in the time executions in find_smallest_dividend_1 than find_smallest_dividend_2"
   ],
   "metadata": {
    "collapsed": false,
    "pycharm": {
     "name": "#%% md\n"
    }
   }
  },
  {
   "cell_type": "markdown",
   "source": [],
   "metadata": {
    "collapsed": false,
    "pycharm": {
     "name": "#%% md\n"
    }
   }
  },
  {
   "cell_type": "markdown",
   "source": [
    "## https://projecteuler.net/problem=7 . [Credit-level] By listing the first six prime numbers: 2, 3, 5, 7, 11, and 13, we can see that the 6th prime is 13. What is the n’s prime number?"
   ],
   "metadata": {
    "collapsed": false,
    "pycharm": {
     "name": "#%% md\n"
    }
   }
  },
  {
   "cell_type": "markdown",
   "source": [],
   "metadata": {
    "collapsed": false
   }
  },
  {
   "cell_type": "markdown",
   "source": [
    "this algorithm is really slow. can use as a slow algorithm"
   ],
   "metadata": {
    "collapsed": false,
    "pycharm": {
     "name": "#%% md\n"
    }
   }
  },
  {
   "cell_type": "code",
   "execution_count": 1,
   "outputs": [
    {
     "name": "stdout",
     "output_type": "stream",
     "text": [
      "541\n"
     ]
    }
   ],
   "source": [
    "# returns True if parameter n is a prime number, False if composite and \"Neither prime, nor composite\" if neither\n",
    "import math\n",
    "def is_prime(num):\n",
    "    if num<2:\n",
    "        return False\n",
    "    if num==2:\n",
    "        return True\n",
    "    if num==3:\n",
    "        return True\n",
    "    if (num + 1)%6 == 0 or (num - 1)%6 == 0: #if the remainder of num/6 is 0,2,3,4 => not prime\n",
    "        for i in range(2, int(round(math.sqrt(num) + 1))):\n",
    "            if num%i == 0:\n",
    "                return False\n",
    "        return True\n",
    "    return False\n",
    "\n",
    "# print(isPrime(5))\n",
    "\n",
    "# returns the nth prime number\n",
    "def find_nth_prime_2(n):\n",
    "    counter = 0\n",
    "    prime = 1\n",
    "\n",
    "    while counter < n:\n",
    "        prime += 1\n",
    "        if is_prime(prime):\n",
    "            counter += 1\n",
    "    return prime\n",
    "\n",
    "print(find_nth_prime_2(100))"
   ],
   "metadata": {
    "collapsed": false,
    "pycharm": {
     "name": "#%%\n"
    }
   }
  },
  {
   "cell_type": "markdown",
   "source": [
    "time complexity:\n",
    "in side while loop, each iteration calls is_prime(prime) with current prime number.\n",
    "inside is_prime(num), even we can ignore 4/6 instances by a simple comparision if (num + 1)%6 == 0 or (num - 1)%6 == 0, however, in the worst case, the for loop still loop from 2 to sqrt(num). Therefore, is_prime(num) is O(sqrt(num)).\n",
    "\n",
    "\n",
    "back to find_nth_prime_2(n), we can not specify a direct number of iterations that  the \"while\" loop will execute. However, by using prime number theorem (https://en.wikipedia.org/wiki/Prime_number_theorem and http://www.fen.bilkent.edu.tr/~franz/nt/cheb.pdf) we can determine the upper bound of nth number n*ln(n)+n*ln(ln(n)) for n>=6 (ln is natural log).\n",
    "\n",
    "therefore, in worst case, the while loop can execute up to n*ln(n)+n*ln(ln(n)) times if n>=6.\n",
    "\n",
    "in each iteration, prime  variable is passed through is_prime, not the n variable. prime will go from 2 to nth prime number\n",
    "Therefore, the find_nth_prime_2(n) is O(g(x)) with g(x) is:\n",
    "\\begin{equation*}\n",
    "\\sum_{k=2}^m \\sqrt{k}\n",
    "\\end{equation*}\n",
    "\n",
    "with m = n*ln(n)+n*ln(ln(n)).\n",
    "Because n*ln(n)+n*ln(ln(n)) is upper limit of nth prime number, the find_nth_prime_2(n) is O(g(x)) with g(x) is:\n",
    "\\begin{align}\n",
    "\\left( n*ln(n)+n*ln(ln(n))\\right)*\\sqrt{n*ln(n)+n*ln(ln(n))}\n",
    "\\end{align}\n",
    "\n",
    "We see that ln(ln(n)) < ln(n), g(x) can be: n^1.5^*ln(n)^1.5^\n"
   ],
   "metadata": {
    "collapsed": false,
    "pycharm": {
     "name": "#%% md\n"
    }
   }
  },
  {
   "cell_type": "code",
   "execution_count": 25,
   "outputs": [],
   "source": [
    "import ctypes  # provides low-level arrays\n",
    "class DynamicArray:\n",
    "    \"\"\"A dynamic array class akin to a simplified Python list.\"\"\"\n",
    "\n",
    "    def __init__(self, *args):\n",
    "        \"\"\"Create an empty array.\"\"\"\n",
    "        self._n = 0  # count actual elements\n",
    "        self._capacity = 20  # default array capacity\n",
    "        self._A = self._make_array(self._capacity)  # low-level array\n",
    "        if len(args) < 1:\n",
    "            self.resize_factor = 2\n",
    "        else:\n",
    "            self.resize_factor = int(args[0])\n",
    "\n",
    "    def __len__(self):\n",
    "        \"\"\"Return number of elements stored in the array.\"\"\"\n",
    "        return self._n\n",
    "\n",
    "    def __getitem__(self, k):\n",
    "        \"\"\"Return element at index k.\"\"\"\n",
    "        if k==-1:\n",
    "            k=self._n-1\n",
    "        if not 0 <= k < self._n:\n",
    "            raise IndexError('invalid index')\n",
    "        return self._A[k]  # retrieve from array\n",
    "\n",
    "    def append(self, obj):\n",
    "        \"\"\"Add object to end of the array.\"\"\"\n",
    "        if self._n == self._capacity:  # not enough room\n",
    "            self._resize(self.resize_factor * self._capacity)  # so double capacity\n",
    "        self._A[self._n] = obj\n",
    "        self._n += 1\n",
    "\n",
    "    def _resize(self, c):  # nonpublic utitity\n",
    "        \"\"\"Resize internal array to capacity c.\"\"\"\n",
    "        B = self._make_array(c)  # new (bigger) array\n",
    "        for k in range(self._n):  # for each existing value\n",
    "            B[k] = self._A[k]\n",
    "        self._A = B  # use the bigger array\n",
    "        self._capacity = c\n",
    "\n",
    "    def _make_array(self, c):  # nonpublic utitity\n",
    "        \"\"\"Return new array with capacity c.\"\"\"\n",
    "        return (c * ctypes.py_object)()  # see ctypes documentation\n",
    "\n",
    "    def insert(self, k, value):\n",
    "        \"\"\"Insert value at index k, shifting subsequent values rightward.\"\"\"\n",
    "        # (for simplicity, we assume 0 <= k <= n in this verion)\n",
    "        if self._n == self._capacity:  # not enough room\n",
    "            self._resize(self.resize_factor * self._capacity)  # so double capacity\n",
    "        for j in range(self._n, k, -1):  # shift rightmost first\n",
    "            self._A[j] = self._A[j - 1]\n",
    "        self._A[k] = value  # store newest element\n",
    "        self._n += 1\n",
    "\n",
    "    def remove(self, value):\n",
    "        \"\"\"Remove first occurrence of value (or raise ValueError).\"\"\"\n",
    "        # note: we do not consider shrinking the dynamic array in this version\n",
    "        for k in range(self._n):\n",
    "            if self._A[k] == value:  # found a match!\n",
    "                for j in range(k, self._n - 1):  # shift others to fill gap\n",
    "                    self._A[j] = self._A[j + 1]\n",
    "                self._A[self._n - 1] = None  # help garbage collection\n",
    "                self._n -= 1  # we have one less item\n",
    "                return  # exit immediately\n",
    "        raise ValueError('value not found')  # only reached if no match\n"
   ],
   "metadata": {
    "collapsed": false,
    "pycharm": {
     "name": "#%%\n"
    }
   }
  },
  {
   "cell_type": "code",
   "execution_count": 38,
   "outputs": [
    {
     "data": {
      "text/plain": "104743"
     },
     "execution_count": 38,
     "metadata": {},
     "output_type": "execute_result"
    }
   ],
   "source": [
    "import math\n",
    "def find_nth_prime_1(n):\n",
    "    if n<1:\n",
    "        return \"invalid input\"\n",
    "    elif n==1:\n",
    "        return 2\n",
    "    else:\n",
    "        counter=1 #store the number o\n",
    "        array_size=n*math.log(n) + n*math.log(math.log(n))\n",
    "        primes =DynamicArray(array_size) #store the prime numbers\n",
    "        primes.append(2)\n",
    "        start=2\n",
    "        while counter<n:\n",
    "            start +=1\n",
    "            if 0 not in [start%prime for prime in primes]:\n",
    "                primes.append(start)\n",
    "                counter+=1\n",
    "\n",
    "        return primes[-1]\n",
    "\n",
    "find_nth_prime_1(10001)"
   ],
   "metadata": {
    "collapsed": false,
    "pycharm": {
     "name": "#%%\n"
    }
   }
  },
  {
   "cell_type": "markdown",
   "source": [
    "I may change to compact array for primes variable or an stack to store the primes number"
   ],
   "metadata": {
    "collapsed": false,
    "pycharm": {
     "name": "#%% md\n"
    }
   }
  },
  {
   "cell_type": "markdown",
   "source": [
    "this is slow algorithm.\n",
    "the most inner list we see that the it loops through a list of prime numbers which are smaller than the current number (start).\n",
    "From prime number theorem as mentioned above,  π(N) ~ N/log(N) where π(N) is the prime-counting function (the number of primes less than or equal to N) and log(N) is the natural logarithm of N.\n",
    "Therefore, in the most inner list comprehension, the for loop will execute num/log(num) with num equals to current number (start).\n",
    "Similar to find_nth_prime_2,  while counter<n will go from start=2 to start= nth prime number. in the worst case, nth prime number can go up to n*ln(n)+n*ln(ln(n))\n",
    "\n",
    "Therefore, the find_nth_prime_2(n) is O(g(x)) with g(x) is:\n",
    "\\begin{equation*}\n",
    "\\sum_{k=2}^m k/log(k)\n",
    "\\end{equation*}\n",
    "\n",
    "with m = n*ln(n)+n*ln(ln(n))\n",
    "\n",
    "because n*ln(n)+n*ln(ln(n)) is the upper limit of nth prime number, we can redefine g(x) as:\n",
    "\\begin{equation*}\n",
    "m * \\frac{m}{log(m)}\n",
    "\\end{equation*}\n",
    "\n",
    "with log(m) is natural logarith of m with m = n*ln(n)+n*ln(ln(n))\n",
    "We see that ln(ln(n)) < ln(n), and 1/log(m) <=1 with m> cai gi do sua sau, g(x) can be:\n",
    "\\begin{equation*}\n",
    "n^2*ln(n)^2^\n",
    "\\end{equation*}"
   ],
   "metadata": {
    "collapsed": false,
    "pycharm": {
     "name": "#%% md\n"
    }
   }
  },
  {
   "cell_type": "code",
   "execution_count": 42,
   "outputs": [
    {
     "data": {
      "text/plain": "<Figure size 432x288 with 1 Axes>",
      "image/png": "[encoded data removed]"
     },
     "metadata": {
      "needs_background": "light"
     },
     "output_type": "display_data"
    }
   ],
   "source": [
    "exec_times= []\n",
    "#I add a bit of delay so that we can see how well the model works\n",
    "#the delay is proportional to the value n\n",
    "# delay=0.001\n",
    "for n in range(1,101):\n",
    "    start = time.time()\n",
    "    find_nth_prime_2(n)\n",
    "    # time.sleep(delay*n)\n",
    "    end= time.time()\n",
    "    exec_times.append(end-start)\n",
    "import matplotlib.pyplot as plt\n",
    "import math\n",
    "plt.plot(min_max_scaler(list(range(1,101))), min_max_scaler(exec_times))\n",
    "plt.plot(min_max_scaler(list(range(1,101))),min_max_scaler([(n**1.5)*(math.log(n)**1.5)for n in range(1,101)]) )\n",
    "plt.show()"
   ],
   "metadata": {
    "collapsed": false,
    "pycharm": {
     "name": "#%%\n"
    }
   }
  },
  {
   "cell_type": "code",
   "execution_count": 44,
   "outputs": [
    {
     "data": {
      "text/plain": "<Figure size 432x288 with 1 Axes>",
      "image/png": "[encoded data removed]"
     },
     "metadata": {
      "needs_background": "light"
     },
     "output_type": "display_data"
    }
   ],
   "source": [
    "exec_times= []\n",
    "#I add a bit of delay so that we can see how well the model works\n",
    "#the delay is proportional to the value n\n",
    "for n in range(1,101):\n",
    "    start = time.time()\n",
    "    find_nth_prime_2(n)\n",
    "    end= time.time()\n",
    "    exec_times.append(end-start)\n",
    "import matplotlib.pyplot as plt\n",
    "import math\n",
    "plt.plot(list(range(1,101)), [1000000*x for x in exec_times])\n",
    "plt.plot(list(range(1,101)),[(n**1.5)*(math.log(n)**1.5)for n in range(1,101)])\n",
    "plt.title(\"the time executions for find_nth_prime_2\")\n",
    "plt.xlabel(\"n-value\")\n",
    "plt.ylabel(\"time executions\")\n",
    "plt.show()"
   ],
   "metadata": {
    "collapsed": false,
    "pycharm": {
     "name": "#%%\n"
    }
   }
  },
  {
   "cell_type": "code",
   "execution_count": 50,
   "outputs": [
    {
     "data": {
      "text/plain": "<Figure size 432x288 with 1 Axes>",
      "image/png": "[encoded data removed]"
     },
     "metadata": {
      "needs_background": "light"
     },
     "output_type": "display_data"
    }
   ],
   "source": [
    "exec_times= []\n",
    "#I add a bit of delay so that we can see how well the model works\n",
    "#the delay is proportional to the value n\n",
    "delay=0.001\n",
    "for n in range(1,101):\n",
    "    start = time.time()\n",
    "    find_nth_prime_1(n)\n",
    "    time.sleep(delay*n)\n",
    "    end= time.time()\n",
    "    exec_times.append(end-start)\n",
    "import matplotlib.pyplot as plt\n",
    "import math\n",
    "plt.plot(min_max_scaler(list(range(1,101))), min_max_scaler(exec_times))\n",
    "plt.plot(min_max_scaler(list(range(1,101))),min_max_scaler([(n**2)*(math.log(n)**2)for n in range(1,101)]) )\n",
    "plt.show()"
   ],
   "metadata": {
    "collapsed": false,
    "pycharm": {
     "name": "#%%\n"
    }
   }
  },
  {
   "cell_type": "markdown",
   "source": [
    "## https://projecteuler.net/problem=9 . [D-HD level] A Pythagorean triplet is a set of three natural numbers, a < b < c, for which, a2 + b2 = c2. For example, 32 + 42 = 9 + 16 = 25 = 52. Calculate (for any n) if there exists exactly one Pythagorean triplet for which a + b + c = n. If such triplet exists, find and print it."
   ],
   "metadata": {
    "collapsed": false,
    "pycharm": {
     "name": "#%% md\n"
    }
   }
  },
  {
   "cell_type": "code",
   "execution_count": null,
   "outputs": [],
   "source": [
    "#Function to generate numbers\n",
    "#with the help of hint given in question\n",
    "def pythagorean_triplet():\n",
    " for a in range(1,1000):\n",
    "  for b in range(1,1000):\n",
    "   c = 1000-a-b\n",
    "   if (a**2+b**2) == c**2:\n",
    "    return a*b*c\n",
    "\n",
    "#printing the result\n",
    "print(pythagorean_triplet())"
   ],
   "metadata": {
    "collapsed": false,
    "pycharm": {
     "name": "#%%\n"
    }
   }
  },
  {
   "cell_type": "code",
   "execution_count": 14,
   "outputs": [],
   "source": [
    "class Tree:\n",
    "\n",
    "    class Node:\n",
    "        __slot__=\"element\",\"parent\",\"children\"\n",
    "        def __init__(self, element, parent=None):\n",
    "            self.element = element\n",
    "            self.parent = parent\n",
    "            self.children=[]\n",
    "\n",
    "        def __eq__(self, other):\n",
    "            \"\"\"compare the value between two nodes\"\"\"\n",
    "            return self.element==other.element\n",
    "\n",
    "        def add_child(self,child):\n",
    "            self.children.append(child)\n",
    "            child.parent= self\n",
    "\n",
    "        def has_child(self,node):\n",
    "            for child in self.children:\n",
    "                if child==node:\n",
    "                    return True\n",
    "            return False\n",
    "\n",
    "    def __init__(self,root=None):\n",
    "        self.root= root\n",
    "\n",
    "    def add_root(self, root):\n",
    "        self.root= root\n",
    "\n",
    "    def return_abc(self):\n",
    "        lst=[]\n",
    "        for child in self.root.children:\n",
    "            lst.append([child.children[0].children[0].element,child.children[0].element, child.element])\n",
    "        return lst\n"
   ],
   "metadata": {
    "collapsed": false,
    "pycharm": {
     "name": "#%%\n"
    }
   }
  },
  {
   "cell_type": "code",
   "execution_count": 19,
   "outputs": [
    {
     "data": {
      "text/plain": "[[21875, 36000, 42125], [20000, 37500, 42500]]"
     },
     "execution_count": 19,
     "metadata": {},
     "output_type": "execute_result"
    }
   ],
   "source": [
    "import time\n",
    "start_time = time.time()\n",
    "def find_pytago_triple_1(n):\n",
    "    tree= Tree()\n",
    "    tree.add_root(Tree.Node(n))\n",
    "    if n%2!=0:\n",
    "        return n\n",
    "    else:\n",
    "        count=0\n",
    "        for c in range(n//3+1,n//2):\n",
    "            count+=1\n",
    "            #I have calculate on paper\n",
    "            a=(n-c)/2 - ((n/2-c/2)**2-(n-2*c)*n/2)**0.5\n",
    "            b=(n-c)/2 + ((n/2-c/2)**2-(n-2*c)*n/2)**0.5\n",
    "            a=int(a.real)\n",
    "            b=int(b.real)\n",
    "            if a**2+b**2==c**2:\n",
    "                if a<1:\n",
    "                    continue\n",
    "                else:\n",
    "                    a_node = Tree.Node(a)\n",
    "                    b_node=Tree.Node(b)\n",
    "                    c_node= Tree.Node(c)\n",
    "                    tree.root.add_child(c_node)\n",
    "                    c_node.add_child(b_node)\n",
    "                    b_node.add_child(a_node)\n",
    "\n",
    "            else:\n",
    "                continue\n",
    "    return tree.return_abc()\n",
    "\n",
    "find_pytago_triple_1(100000)"
   ],
   "metadata": {
    "collapsed": false,
    "pycharm": {
     "name": "#%%\n"
    }
   }
  },
  {
   "cell_type": "markdown",
   "source": [
    "how about store a these in a tree and read it in preorder way. ko co su trung lap la ngon"
   ],
   "metadata": {
    "collapsed": false,
    "pycharm": {
     "name": "#%% md\n"
    }
   }
  },
  {
   "cell_type": "code",
   "execution_count": 17,
   "outputs": [
    {
     "name": "stdout",
     "output_type": "stream",
     "text": [
      "hoh\n",
      "--------\n",
      "2500\n",
      "--------\n",
      "37500\n",
      "20000\n",
      "42500\n",
      "31875000000000\n",
      "hoh\n",
      "--------\n",
      "1250\n",
      "--------\n",
      "20000\n",
      "37500\n",
      "42500\n",
      "31875000000000\n",
      "hoh\n",
      "--------\n",
      "625\n",
      "--------\n",
      "37500\n",
      "20000\n",
      "42500\n",
      "31875000000000\n",
      "hoh\n",
      "--------\n",
      "125\n",
      "--------\n",
      "21875\n",
      "36000\n",
      "42125\n",
      "33173437500000\n",
      "hoh\n",
      "--------\n",
      "100\n",
      "--------\n",
      "37500\n",
      "20000\n",
      "42500\n",
      "31875000000000\n",
      "hoh\n",
      "--------\n",
      "50\n",
      "--------\n",
      "20000\n",
      "37500\n",
      "42500\n",
      "31875000000000\n",
      "hoh\n",
      "--------\n",
      "25\n",
      "--------\n",
      "37500\n",
      "20000\n",
      "42500\n",
      "31875000000000\n",
      "hoh\n",
      "--------\n",
      "5\n",
      "--------\n",
      "21875\n",
      "36000\n",
      "42125\n",
      "33173437500000\n",
      "hoh\n",
      "--------\n",
      "4\n",
      "--------\n",
      "37500\n",
      "20000\n",
      "42500\n",
      "31875000000000\n",
      "hoh\n",
      "--------\n",
      "2\n",
      "--------\n",
      "20000\n",
      "37500\n",
      "42500\n",
      "31875000000000\n",
      "hoh\n",
      "--------\n",
      "1\n",
      "--------\n",
      "37500\n",
      "20000\n",
      "42500\n",
      "31875000000000\n"
     ]
    }
   ],
   "source": [
    "# using euclid formula: https://en.wikipedia.org/wiki/Pythagorean_triple#Generating_a_triple\n",
    "# look at the assignment note\n",
    "def find_pytago_triple_2(n):\n",
    "    if n%2!=0:\n",
    "        return n\n",
    "    else:\n",
    "        count=0\n",
    "        for x in range(1,int((n/2)**0.5)+1):\n",
    "            for y in range(1,x):\n",
    "                #no need to find k\n",
    "                k=int(n/(x+y)/x/2)\n",
    "                if k*x*(x+y)*2 != n:\n",
    "                    # print(\"haa\")\n",
    "                    continue\n",
    "                else:\n",
    "                    print(\"hoh\")\n",
    "                    a= k*(x**2 - y**2)\n",
    "                    b=2*k*x*y\n",
    "                    c=k*(x**2+y**2)\n",
    "                    if a+b+c == n:\n",
    "                        print('--------')\n",
    "                        print(k)\n",
    "                        print('--------')\n",
    "                        print(a)\n",
    "                        print(b)\n",
    "                        print(c)\n",
    "                        print(a*b*c)\n",
    "\n",
    "        # print(f\"count: {count}\")\n",
    "find_pytago_triple_2(100000)"
   ],
   "metadata": {
    "collapsed": false,
    "pycharm": {
     "name": "#%%\n"
    }
   }
  },
  {
   "cell_type": "code",
   "execution_count": 55,
   "outputs": [
    {
     "name": "stdout",
     "output_type": "stream",
     "text": [
      "count: 1\n",
      "count: 2\n",
      "count: 3\n",
      "count: 5\n",
      "count: 6\n",
      "3\n",
      "4\n",
      "5\n",
      "12\n",
      "0\n",
      "count: 7\n",
      "count: 9\n",
      "count: 10\n",
      "count: 11\n",
      "count: 13\n",
      "count: 14\n",
      "6\n",
      "8\n",
      "10\n",
      "24\n",
      "0\n",
      "count: 15\n",
      "count: 17\n",
      "count: 18\n",
      "5\n",
      "12\n",
      "13\n",
      "30\n",
      "0\n",
      "count: 19\n",
      "count: 21\n",
      "count: 22\n",
      "9\n",
      "12\n",
      "15\n",
      "36\n",
      "0\n",
      "count: 23\n",
      "count: 25\n",
      "8\n",
      "15\n",
      "17\n",
      "40\n",
      "0\n",
      "count: 26\n",
      "count: 27\n",
      "count: 29\n",
      "count: 30\n",
      "12\n",
      "16\n",
      "20\n",
      "48\n",
      "0\n",
      "count: 31\n",
      "count: 33\n",
      "count: 34\n",
      "count: 35\n",
      "7\n",
      "24\n",
      "25\n",
      "56\n",
      "0\n",
      "count: 37\n",
      "count: 38\n",
      "15\n",
      "20\n",
      "25\n",
      "60\n",
      "0\n",
      "10\n",
      "24\n",
      "26\n",
      "60\n",
      "0\n",
      "count: 39\n",
      "count: 41\n",
      "count: 42\n",
      "count: 43\n",
      "count: 45\n",
      "20\n",
      "21\n",
      "29\n",
      "70\n",
      "0\n",
      "count: 46\n",
      "18\n",
      "24\n",
      "30\n",
      "72\n",
      "0\n",
      "count: 47\n",
      "count: 49\n",
      "count: 50\n",
      "count: 51\n",
      "16\n",
      "30\n",
      "34\n",
      "80\n",
      "0\n",
      "count: 53\n",
      "count: 54\n",
      "21\n",
      "28\n",
      "35\n",
      "84\n",
      "0\n",
      "12\n",
      "35\n",
      "37\n",
      "84\n",
      "0\n",
      "count: 55\n",
      "count: 57\n",
      "count: 58\n",
      "15\n",
      "36\n",
      "39\n",
      "90\n",
      "0\n",
      "9\n",
      "40\n",
      "41\n",
      "90\n",
      "0\n",
      "count: 59\n",
      "count: 61\n",
      "count: 62\n",
      "24\n",
      "32\n",
      "40\n",
      "96\n",
      "0\n",
      "count: 63\n",
      "count: 65\n",
      "count: 66\n"
     ]
    },
    {
     "data": {
      "text/plain": "<Figure size 432x288 with 1 Axes>",
      "image/png": "[encoded data removed]"
     },
     "metadata": {
      "needs_background": "light"
     },
     "output_type": "display_data"
    }
   ],
   "source": [
    "exec_times= []\n",
    "#I add a bit of delay so that we can see how well the model works\n",
    "#the delay is proportional to the value n\n",
    "delay=0.001\n",
    "for n in range(1,101):\n",
    "    start = time.time()\n",
    "    find_pytago_triple_1(n)\n",
    "    time.sleep(delay*n)\n",
    "    end= time.time()\n",
    "    exec_times.append(end-start)\n",
    "import matplotlib.pyplot as plt\n",
    "import math\n",
    "plt.plot(min_max_scaler(list(range(1,101))), min_max_scaler(exec_times))\n",
    "plt.plot(min_max_scaler(list(range(1,101))),min_max_scaler([n for n in range(1,101)]) )\n",
    "plt.show()"
   ],
   "metadata": {
    "collapsed": false,
    "pycharm": {
     "name": "#%%\n"
    }
   }
  },
  {
   "cell_type": "code",
   "execution_count": 56,
   "outputs": [
    {
     "name": "stdout",
     "output_type": "stream",
     "text": [
      "count: 0\n",
      "count: 0\n",
      "count: 0\n",
      "count: 1\n",
      "count: 1\n",
      "--------\n",
      "1\n",
      "--------\n",
      "3\n",
      "4\n",
      "5\n",
      "60\n",
      "count: 1\n",
      "count: 1\n",
      "count: 1\n",
      "count: 3\n",
      "count: 3\n",
      "count: 3\n",
      "--------\n",
      "2\n",
      "--------\n",
      "6\n",
      "8\n",
      "10\n",
      "480\n",
      "count: 3\n",
      "count: 3\n",
      "count: 3\n",
      "--------\n",
      "1\n",
      "--------\n",
      "5\n",
      "12\n",
      "13\n",
      "780\n",
      "count: 3\n",
      "count: 6\n",
      "count: 6\n",
      "--------\n",
      "3\n",
      "--------\n",
      "9\n",
      "12\n",
      "15\n",
      "1620\n",
      "count: 6\n",
      "count: 6\n",
      "count: 6\n",
      "count: 6\n",
      "count: 6\n",
      "count: 6\n",
      "--------\n",
      "4\n",
      "--------\n",
      "12\n",
      "16\n",
      "20\n",
      "3840\n",
      "--------\n",
      "1\n",
      "--------\n",
      "12\n",
      "16\n",
      "20\n",
      "3840\n",
      "count: 6\n",
      "count: 10\n",
      "count: 10\n",
      "count: 10\n",
      "--------\n",
      "1\n",
      "--------\n",
      "7\n",
      "24\n",
      "25\n",
      "4200\n",
      "count: 10\n",
      "count: 10\n",
      "--------\n",
      "5\n",
      "--------\n",
      "15\n",
      "20\n",
      "25\n",
      "7500\n",
      "--------\n",
      "2\n",
      "--------\n",
      "10\n",
      "24\n",
      "26\n",
      "6240\n",
      "count: 10\n",
      "count: 10\n",
      "count: 10\n",
      "count: 10\n",
      "count: 10\n",
      "count: 10\n",
      "--------\n",
      "6\n",
      "--------\n",
      "18\n",
      "24\n",
      "30\n",
      "12960\n",
      "count: 15\n",
      "count: 15\n",
      "count: 15\n",
      "count: 15\n",
      "--------\n",
      "1\n",
      "--------\n",
      "16\n",
      "30\n",
      "34\n",
      "16320\n",
      "count: 15\n",
      "count: 15\n",
      "--------\n",
      "7\n",
      "--------\n",
      "21\n",
      "28\n",
      "35\n",
      "20580\n",
      "count: 15\n",
      "count: 15\n",
      "count: 15\n",
      "--------\n",
      "3\n",
      "--------\n",
      "15\n",
      "36\n",
      "39\n",
      "21060\n",
      "--------\n",
      "1\n",
      "--------\n",
      "9\n",
      "40\n",
      "41\n",
      "14760\n",
      "count: 15\n",
      "count: 15\n",
      "count: 15\n",
      "--------\n",
      "8\n",
      "--------\n",
      "24\n",
      "32\n",
      "40\n",
      "30720\n",
      "--------\n",
      "2\n",
      "--------\n",
      "24\n",
      "32\n",
      "40\n",
      "30720\n",
      "count: 15\n",
      "count: 21\n",
      "count: 21\n"
     ]
    },
    {
     "data": {
      "text/plain": "<Figure size 432x288 with 1 Axes>",
      "image/png": "[encoded data removed]"
     },
     "metadata": {
      "needs_background": "light"
     },
     "output_type": "display_data"
    }
   ],
   "source": [
    "exec_times= []\n",
    "#I add a bit of delay so that we can see how well the model works\n",
    "#the delay is proportional to the value n\n",
    "delay=0.001\n",
    "for n in range(1,101):\n",
    "    start = time.time()\n",
    "    find_pytago_triple_2(n)\n",
    "    time.sleep(delay*n)\n",
    "    end= time.time()\n",
    "    exec_times.append(end-start)\n",
    "import matplotlib.pyplot as plt\n",
    "import math\n",
    "plt.plot(min_max_scaler(list(range(1,101))), min_max_scaler(exec_times))\n",
    "plt.plot(min_max_scaler(list(range(1,101))),min_max_scaler([n for n in range(1,101)]) )\n",
    "plt.show()"
   ],
   "metadata": {
    "collapsed": false,
    "pycharm": {
     "name": "#%%\n"
    }
   }
  },
  {
   "cell_type": "code",
   "execution_count": 97,
   "outputs": [
    {
     "name": "stdout",
     "output_type": "stream",
     "text": [
      "31875000\n",
      "0.001001596450805664\n"
     ]
    }
   ],
   "source": [
    "import time\n",
    "start_time = time.time()\n",
    "def pythagorean_triplet_m_n():\n",
    "\t#for loop to generate m,n\n",
    "\tfor n in range(1,32):\n",
    "\t\tfor m in range(1,n):\n",
    "\t\t\ta = n**2 - m**2\n",
    "\t\t\tb = 2*n*m\n",
    "\t\t\tc = n**2 + m**2\n",
    "\t\t\tif a+b+c == 1000:\n",
    "\t\t\t\treturn a*b*c\n",
    "\n",
    "#printing the result\n",
    "print(pythagorean_triplet_m_n())\n",
    "end_time = time.time()\n",
    "print(end_time - start_time)"
   ],
   "metadata": {
    "collapsed": false,
    "pycharm": {
     "name": "#%%\n"
    }
   }
  },
  {
   "cell_type": "code",
   "execution_count": 100,
   "outputs": [
    {
     "name": "stdout",
     "output_type": "stream",
     "text": [
      "<class 'int'>\n",
      "<class 'int'>\n",
      "<class 'int'>\n",
      "<class 'int'>\n",
      "<class 'int'>\n"
     ]
    }
   ],
   "source": [
    "for x in range(5):\n",
    "    print(type(x))"
   ],
   "metadata": {
    "collapsed": false,
    "pycharm": {
     "name": "#%%\n"
    }
   }
  },
  {
   "cell_type": "markdown",
   "source": [
    "O(n)"
   ],
   "metadata": {
    "collapsed": false,
    "pycharm": {
     "name": "#%% md\n"
    }
   }
  }
 ],
 "metadata": {
  "kernelspec": {
   "display_name": "Python 3",
   "language": "python",
   "name": "python3"
  },
  "language_info": {
   "codemirror_mode": {
    "name": "ipython",
    "version": 2
   },
   "file_extension": ".py",
   "mimetype": "text/x-python",
   "name": "python",
   "nbconvert_exporter": "python",
   "pygments_lexer": "ipython2",
   "version": "2.7.6"
  }
 },
 "nbformat": 4,
 "nbformat_minor": 0
}